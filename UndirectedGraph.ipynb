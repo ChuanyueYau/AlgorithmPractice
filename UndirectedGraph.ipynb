{
 "cells": [
  {
   "cell_type": "code",
   "execution_count": 6,
   "metadata": {
    "collapsed": true
   },
   "outputs": [],
   "source": [
    "def question3(G):\n",
    "    ####\n",
    "    # Clean overlaps and sort edges\n",
    "    ####\n",
    "    vertices = G.keys()\n",
    "    edges = []\n",
    "    for i in G:\n",
    "        for j in G[i]:\n",
    "            if i < j[0]:\n",
    "                edges.append([j[1],i, j[0]])\n",
    "            else:\n",
    "                edges.append([j[1],j[0],i])\n",
    "\n",
    "    edges_clean = []\n",
    "    for i in edges:\n",
    "        if not i in edges_clean:\n",
    "            edges_clean.append(i)\n",
    "\n",
    "    edges_clean = sorted(edges_clean)\n",
    "    \n",
    "    ####\n",
    "    # Only keep useful edges: number of nodes -1 edges; Without cycle.\n",
    "    ####\n",
    "    edges_need = []\n",
    "    vertices = [[i] for i in vertices]\n",
    "    for i in edges_clean:\n",
    "        for j in range(len(vertices)):\n",
    "            if i[1] in vertices[j]:\n",
    "                left = j\n",
    "            if i[2] in vertices[j]:\n",
    "                right = j\n",
    "    \n",
    "        if left < right:\n",
    "            edges_need.append(i)\n",
    "            vertices[left].append(vertices[right][0])\n",
    "            vertices.pop(right)\n",
    "        if left > right: \n",
    "            edges_need.append(i)\n",
    "            vertices[right].append(vertices[left][0])\n",
    "            vertices.pop(left)\n",
    "        if len(vertices) == 1:\n",
    "            break\n",
    "    ####\n",
    "    # Construct adjacency list\n",
    "    ####    \n",
    "    adj = {}\n",
    "    \n",
    "    for i in edges_need:\n",
    "\n",
    "        if i[1] in adj and i[2] in adj:\n",
    "            adj[i[1]].append((i[2],i[0]))\n",
    "            adj[i[2]].append((i[1],i[0]))\n",
    "\n",
    "        elif i[1] in adj and i[2] not in adj:\n",
    "            adj[i[1]].append((i[2],i[0]))\n",
    "            adj[i[2]] = [(i[1],i[0])]\n",
    "\n",
    "        elif i[1] not in adj and i[2] in adj:\n",
    "            adj[i[2]].append((i[1],i[0]))\n",
    "            adj[i[1]] = [(i[2],i[0])]\n",
    "\n",
    "        else:\n",
    "            adj[i[1]] = [(i[2],i[0])]\n",
    "            adj[i[2]] = [(i[1],i[0])]\n",
    "\n",
    "        \n",
    "    return adj"
   ]
  },
  {
   "cell_type": "code",
   "execution_count": 7,
   "metadata": {
    "collapsed": true
   },
   "outputs": [],
   "source": [
    "G = {'A': [('B', 7), ('D', 5)],\n",
    "\n",
    "         'B': [('A', 7), ('C', 8), ('D', 9), ('E', 7)],\n",
    "\n",
    "         'C': [('B', 8), ('E', 5)],\n",
    "\n",
    "         'D': [('A', 5), ('B', 9), ('E', 15), ('F', 6)],\n",
    "\n",
    "         'E': [('B', 7), ('C', 5), ('D', 15), ('F', 8), ('G', 9)],\n",
    "\n",
    "         'F': [('D', 6), ('E', 8), ('G', 11)],\n",
    "\n",
    "         'G': [('E', 9), ('F', 11)]}"
   ]
  },
  {
   "cell_type": "code",
   "execution_count": 8,
   "metadata": {},
   "outputs": [
    {
     "data": {
      "text/plain": [
       "{'A': [('D', 5), ('B', 7)],\n",
       " 'B': [('A', 7), ('E', 7)],\n",
       " 'C': [('E', 5)],\n",
       " 'D': [('A', 5), ('F', 6)],\n",
       " 'E': [('C', 5), ('B', 7), ('G', 9)],\n",
       " 'F': [('D', 6)],\n",
       " 'G': [('E', 9)]}"
      ]
     },
     "execution_count": 8,
     "metadata": {},
     "output_type": "execute_result"
    }
   ],
   "source": [
    "question3(G)"
   ]
  }
 ],
 "metadata": {
  "kernelspec": {
   "display_name": "Python 2",
   "language": "python",
   "name": "python2"
  },
  "language_info": {
   "codemirror_mode": {
    "name": "ipython",
    "version": 2
   },
   "file_extension": ".py",
   "mimetype": "text/x-python",
   "name": "python",
   "nbconvert_exporter": "python",
   "pygments_lexer": "ipython2",
   "version": "2.7.13"
  }
 },
 "nbformat": 4,
 "nbformat_minor": 2
}
