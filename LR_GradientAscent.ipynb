{
 "cells": [
  {
   "cell_type": "code",
   "execution_count": 2,
   "metadata": {
    "collapsed": true
   },
   "outputs": [],
   "source": [
    "# import numpy as np"
   ]
  },
  {
   "cell_type": "code",
   "execution_count": 2,
   "metadata": {
    "collapsed": true
   },
   "outputs": [],
   "source": [
    "#def sigmoid(x):\n",
    "#    return 1.0/1.0+np.exp(-x)\n",
    "\n",
    "#weights = np.array([0.2,0.3])\n",
    "#inputs = np.array([0.7,0.8])\n",
    "\n",
    "#bias = -1.0\n",
    "\n",
    "#output = sigmoid(np.dot(weights,inputs)+bias)"
   ]
  },
  {
   "cell_type": "code",
   "execution_count": 3,
   "metadata": {},
   "outputs": [
    {
     "data": {
      "text/plain": [
       "2.8589280418463421"
      ]
     },
     "execution_count": 3,
     "metadata": {},
     "output_type": "execute_result"
    }
   ],
   "source": [
    "#output"
   ]
  },
  {
   "cell_type": "code",
   "execution_count": 16,
   "metadata": {
    "collapsed": true
   },
   "outputs": [],
   "source": [
    "def sigmoid(x):\n",
    "    return 1.0/1.0+np.exp(x)"
   ]
  },
  {
   "cell_type": "code",
   "execution_count": 35,
   "metadata": {
    "collapsed": true
   },
   "outputs": [],
   "source": [
    "def get_p(x,y,lr):\n",
    "    theta = np.random.random_sample((x.shape[1],1))\n",
    "    gradient = np.dot(x.T,(y-sigmoid(np.dot(x,theta))))\n",
    "    counts = 0\n",
    "    while counts < 20:\n",
    "        theta += lr*gradient\n",
    "        counts+=1\n",
    "    return theta"
   ]
  },
  {
   "cell_type": "code",
   "execution_count": 3,
   "metadata": {},
   "outputs": [],
   "source": [
    "# test\n",
    "X = np.random.rand(3,2)\n",
    "temp = np.ones((3,1))\n",
    "input_ =np.c_[X,temp]"
   ]
  },
  {
   "cell_type": "code",
   "execution_count": 8,
   "metadata": {},
   "outputs": [
    {
     "data": {
      "text/plain": [
       "array([[ 0.25067601,  0.82543772,  1.        ],\n",
       "       [ 0.76345692,  0.01674243,  1.        ],\n",
       "       [ 0.3378208 ,  0.07540281,  1.        ]])"
      ]
     },
     "execution_count": 8,
     "metadata": {},
     "output_type": "execute_result"
    }
   ],
   "source": [
    "input_"
   ]
  },
  {
   "cell_type": "code",
   "execution_count": 33,
   "metadata": {
    "collapsed": true
   },
   "outputs": [],
   "source": [
    "target = np.array([[0],[1],[1]])"
   ]
  },
  {
   "cell_type": "code",
   "execution_count": 36,
   "metadata": {},
   "outputs": [
    {
     "data": {
      "text/plain": [
       "array([[-0.17529391],\n",
       "       [-0.43840965],\n",
       "       [-1.51329324]])"
      ]
     },
     "execution_count": 36,
     "metadata": {},
     "output_type": "execute_result"
    }
   ],
   "source": [
    "get_p(input_,target,0.01)"
   ]
  }
 ],
 "metadata": {
  "kernelspec": {
   "display_name": "Python 2",
   "language": "python",
   "name": "python2"
  }
 },
 "nbformat": 4,
 "nbformat_minor": 2
}
